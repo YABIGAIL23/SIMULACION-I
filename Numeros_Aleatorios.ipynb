{
  "nbformat": 4,
  "nbformat_minor": 0,
  "metadata": {
    "colab": {
      "provenance": [],
      "authorship_tag": "ABX9TyMgIsqHowi4Dcfy+zGB1y25",
      "include_colab_link": true
    },
    "kernelspec": {
      "name": "python3",
      "display_name": "Python 3"
    },
    "language_info": {
      "name": "python"
    }
  },
  "cells": [
    {
      "cell_type": "markdown",
      "metadata": {
        "id": "view-in-github",
        "colab_type": "text"
      },
      "source": [
        "<a href=\"https://colab.research.google.com/github/YABIGAIL23/SIMULACION-I/blob/main/Numeros_Aleatorios.ipynb\" target=\"_parent\"><img src=\"https://colab.research.google.com/assets/colab-badge.svg\" alt=\"Open In Colab\"/></a>"
      ]
    },
    {
      "cell_type": "code",
      "execution_count": 12,
      "metadata": {
        "colab": {
          "base_uri": "https://localhost:8080/"
        },
        "id": "rHEQaV3pVw0B",
        "outputId": "d44b5386-0c91-4206-a59f-c0581e44633d"
      },
      "outputs": [
        {
          "output_type": "stream",
          "name": "stdout",
          "text": [
            "[19, 17, 9, 21, 3, 19, 17, 9, 21, 3]\n"
          ]
        }
      ],
      "source": [
        "import numpy as np\n",
        "a = 4\n",
        "c = 7\n",
        "m = 22\n",
        "x = 3\n",
        "\n",
        "def generar_numeros(x,a,c,m,n):\n",
        "\n",
        "  num = []\n",
        "  for i in range(n):\n",
        "   x = (a*x + c) % m\n",
        "   num.append(x)\n",
        "  return num\n",
        "\n",
        "numeros_generados = generar_numeros(x,a,c,m,10)\n",
        "print(numeros_generados)\n"
      ]
    }
  ]
}