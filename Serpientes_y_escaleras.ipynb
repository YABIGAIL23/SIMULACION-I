{
  "nbformat": 4,
  "nbformat_minor": 0,
  "metadata": {
    "colab": {
      "provenance": [],
      "authorship_tag": "ABX9TyNkl7/xJv7KlumnZCsGNyyQ",
      "include_colab_link": true
    },
    "kernelspec": {
      "name": "python3",
      "display_name": "Python 3"
    },
    "language_info": {
      "name": "python"
    }
  },
  "cells": [
    {
      "cell_type": "markdown",
      "metadata": {
        "id": "view-in-github",
        "colab_type": "text"
      },
      "source": [
        "<a href=\"https://colab.research.google.com/github/YABIGAIL23/SIMULACION-I/blob/main/Serpientes_y_escaleras.ipynb\" target=\"_parent\"><img src=\"https://colab.research.google.com/assets/colab-badge.svg\" alt=\"Open In Colab\"/></a>"
      ]
    },
    {
      "cell_type": "markdown",
      "source": [
        "Acuerdos:\n",
        "\n",
        "- 1 jugador, 1 dado,\n",
        "- Empieza fuera del tablero\n",
        "- Termina en la casilla 20"
      ],
      "metadata": {
        "id": "gUGplj2-PBdi"
      }
    },
    {
      "cell_type": "code",
      "source": [
        "import numpy as np"
      ],
      "metadata": {
        "id": "eWmh72I0RO2Z"
      },
      "execution_count": null,
      "outputs": []
    },
    {
      "cell_type": "code",
      "execution_count": null,
      "metadata": {
        "colab": {
          "base_uri": "https://localhost:8080/"
        },
        "id": "UD5gVnh6O3hS",
        "outputId": "dfb79eac-cfe4-4bb8-db74-4d33638264b6"
      },
      "outputs": [
        {
          "output_type": "stream",
          "name": "stdout",
          "text": [
            "[4. 6. 3. 2. 4. 4. 3. 4. 2. 1. 6. 4. 4. 1. 1. 3. 6. 5. 5. 5.]\n",
            "4.0\n",
            "10.0\n",
            "13.0\n",
            "15.0\n",
            "19.0\n",
            "Regresaste 19.0\n",
            "Regresaste 19.0\n",
            "Regresaste 19.0\n",
            "Regresaste 19.0\n",
            "Ganaste 20.0\n"
          ]
        }
      ],
      "source": [
        "a = 1\n",
        "b = 6\n",
        "N = 20\n",
        "x_random = np.random.uniform(a, b, N)\n",
        "#Numero entero\n",
        "x_random = np.round(x_random)\n",
        "print (x_random)\n",
        "\n",
        "posicion = 0\n",
        "for i in range(N):\n",
        "    posicion = posicion + x_random[i]\n",
        "    if posicion == 20:\n",
        "            print (\"Ganaste\", posicion)\n",
        "            break\n",
        "    elif posicion > 20:\n",
        "            posicion = posicion - x_random[i]\n",
        "            print(\"Regresaste\", posicion)\n",
        "    elif posicion < 20:\n",
        "            print (posicion)\n",
        "\n",
        "#def tab_min(a,b,N):"
      ]
    },
    {
      "cell_type": "code",
      "source": [
        "\n",
        "        if posicion == 20:\n",
        "            print (\"Ganaste\")\n",
        "            break\n",
        "    else:\n",
        "        posicion = posicion - x_random[i]\n",
        "\n"
      ],
      "metadata": {
        "id": "38s6I66KVmnW"
      },
      "execution_count": null,
      "outputs": []
    },
    {
      "cell_type": "code",
      "source": [
        "import random\n",
        "\n",
        "def jugar_partida():\n",
        "    posicion = 0\n",
        "    pasos = 0\n",
        "    reglas_tablero = {3: 11, 15: 19, 13: 4, 17: 10}\n",
        "\n",
        "    while posicion < 20:\n",
        "        dado = random.randint(1, 6)\n",
        "        nueva_posicion = posicion + dado\n",
        "\n",
        "        if nueva_posicion <= 20:\n",
        "            if nueva_posicion in reglas_tablero:\n",
        "                posicion = reglas_tablero[nueva_posicion]\n",
        "\n",
        "            else:\n",
        "                posicion = nueva_posicion\n",
        "\n",
        "        pasos += 1\n",
        "\n",
        "    return pasos\n",
        "\n",
        "num_simulaciones = 10\n",
        "resultados = [jugar_partida() for _ in range(num_simulaciones)]\n",
        "\n",
        "valor_esperado = sum(resultados) / num_simulaciones\n",
        "print(valor_esperado)\n"
      ],
      "metadata": {
        "colab": {
          "base_uri": "https://localhost:8080/"
        },
        "id": "JfTcc1fkZ2yu",
        "outputId": "c773873b-2fa4-466f-ca61-14193332741b"
      },
      "execution_count": 1,
      "outputs": [
        {
          "output_type": "stream",
          "name": "stdout",
          "text": [
            "12.8\n"
          ]
        }
      ]
    }
  ]
}