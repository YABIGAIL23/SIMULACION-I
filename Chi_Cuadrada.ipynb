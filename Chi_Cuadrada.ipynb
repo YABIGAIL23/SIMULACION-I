{
  "nbformat": 4,
  "nbformat_minor": 0,
  "metadata": {
    "colab": {
      "provenance": [],
      "authorship_tag": "ABX9TyPF9DokKe/zkX1kQrdB9+41",
      "include_colab_link": true
    },
    "kernelspec": {
      "name": "python3",
      "display_name": "Python 3"
    },
    "language_info": {
      "name": "python"
    }
  },
  "cells": [
    {
      "cell_type": "markdown",
      "metadata": {
        "id": "view-in-github",
        "colab_type": "text"
      },
      "source": [
        "<a href=\"https://colab.research.google.com/github/YABIGAIL23/SIMULACION-I/blob/main/Chi_Cuadrada.ipynb\" target=\"_parent\"><img src=\"https://colab.research.google.com/assets/colab-badge.svg\" alt=\"Open In Colab\"/></a>"
      ]
    },
    {
      "cell_type": "code",
      "source": [
        "#CHI CUADRADA\n",
        "import numpy as np\n",
        "from scipy.stats import chi2\n",
        "from tabulate import tabulate\n",
        "\n",
        "lista = [\n",
        "    0.048, 0.591, 0.478, 0.166, 0.932,\n",
        "    0.926, 0.007, 0.551, 0.362, 0.533,\n",
        "    0.368, 0.437, 0.178, 0.411, 0.545,\n",
        "    0.787, 0.594, 0.086, 0.951, 0.772,\n",
        "    0.298, 0.199, 0.157, 0.401, 0.631\n",
        "]\n",
        "\n",
        "n = len(lista)  #Número de datos\n",
        "clase = 5  #Número de clases\n",
        "amplitud = 1 / clase  #Amplitud de cada clase\n",
        "grados_libertad = clase - 1  #Grados de libertad\n",
        "alpha = 0.05  #Nivel de significancia\n",
        "\n",
        "fe = [n / clase] * clase  #Frecuencias esperadas\n",
        "fo = [0] * clase  #Frecuencias observadas\n",
        "chi = [0] * clase  #Cálculo de Chi-cuadrado\n",
        "\n",
        "#Intervalos de clase\n",
        "clases = [(i * amplitud, (i + 1) * amplitud) for i in range(clase)]\n",
        "\n",
        "#Contar las frecuencias observadas\n",
        "for dato in lista:\n",
        "    for i, (li, ls) in enumerate(clases):\n",
        "        if li <= dato < ls:\n",
        "            fo[i] += 1\n",
        "            break\n",
        "\n",
        "#Estadístico de Chi-cuadrado\n",
        "chi = [(fo[i] - fe[i]) ** 2 / fe[i] for i in range(clase)]\n",
        "chi2_total = np.sum(chi)\n",
        "\n",
        "#Cálculo del valor crítico de Chi-cuadrado\n",
        "valor_critico = chi2.ppf(1 - alpha, grados_libertad)\n",
        "\n",
        "#Tabla\n",
        "tabla = []\n",
        "for i in range(clase):\n",
        "    tabla.append([f\"[{clases[i][0]:.2f}, {clases[i][1]:.2f})\", fe[i], fo[i], chi[i]])\n",
        "print(tabulate(tabla, headers=[\"Intervalo\", \"FE\", \"FO\", \"Chi²\"], tablefmt=\"grid\"))\n",
        "\n",
        "print(f\"\\nEstadístico Chi-cuadrado total: {chi2_total}\")\n",
        "print(f\"Valor crítico de Chi-cuadrado con α={alpha}: {valor_critico:.4f}\")\n"
      ],
      "metadata": {
        "colab": {
          "base_uri": "https://localhost:8080/"
        },
        "id": "uDJucsUOtVrs",
        "outputId": "1ac572b3-27f7-488e-e902-020afd386533"
      },
      "execution_count": 43,
      "outputs": [
        {
          "output_type": "stream",
          "name": "stdout",
          "text": [
            "+--------------+------+------+--------+\n",
            "| Intervalo    |   FE |   FO |   Chi² |\n",
            "+==============+======+======+========+\n",
            "| [0.00, 0.20) |    5 |    7 |    0.8 |\n",
            "+--------------+------+------+--------+\n",
            "| [0.20, 0.40) |    5 |    3 |    0.8 |\n",
            "+--------------+------+------+--------+\n",
            "| [0.40, 0.60) |    5 |    9 |    3.2 |\n",
            "+--------------+------+------+--------+\n",
            "| [0.60, 0.80) |    5 |    3 |    0.8 |\n",
            "+--------------+------+------+--------+\n",
            "| [0.80, 1.00) |    5 |    3 |    0.8 |\n",
            "+--------------+------+------+--------+\n",
            "\n",
            "Estadístico Chi-cuadrado total: 6.4\n",
            "Valor crítico de Chi-cuadrado con α=0.05: 9.4877\n"
          ]
        }
      ]
    }
  ]
}