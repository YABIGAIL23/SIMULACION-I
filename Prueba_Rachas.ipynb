{
  "nbformat": 4,
  "nbformat_minor": 0,
  "metadata": {
    "colab": {
      "provenance": [],
      "authorship_tag": "ABX9TyOq1wqn2bOJ3dg0UCPwJqds",
      "include_colab_link": true
    },
    "kernelspec": {
      "name": "python3",
      "display_name": "Python 3"
    },
    "language_info": {
      "name": "python"
    }
  },
  "cells": [
    {
      "cell_type": "markdown",
      "metadata": {
        "id": "view-in-github",
        "colab_type": "text"
      },
      "source": [
        "<a href=\"https://colab.research.google.com/github/YABIGAIL23/SIMULACION-I/blob/main/Prueba_Rachas.ipynb\" target=\"_parent\"><img src=\"https://colab.research.google.com/assets/colab-badge.svg\" alt=\"Open In Colab\"/></a>"
      ]
    },
    {
      "cell_type": "code",
      "source": [
        "import numpy as np\n",
        "from scipy.stats import norm\n",
        "\n",
        "#Datos\n",
        "data = np.array([0.048, 0.926, 0.368, 0.787, 0.298, 0.591, 0.007, 0.437, 0.594, 0.199,\n",
        "                 0.478, 0.551, 0.178, 0.086, 0.157, 0.166, 0.362, 0.411, 0.951, 0.401,\n",
        "                 0.932, 0.533, 0.545, 0.772, 0.631])\n",
        "\n",
        "#Función para generar la secuencia de 0 y 1\n",
        "def generar_secuencia(data):\n",
        "    secuencia = np.zeros(len(data), dtype=int)\n",
        "    for i in range(1, len(data)-1):\n",
        "        if data[i] < data[i - 1]:\n",
        "            secuencia[i] = 0\n",
        "        elif data[i] > data[i + 1]:\n",
        "            secuencia[i] = 1\n",
        "    return secuencia\n",
        "\n",
        "#Generar la secuencia de 0 y 1\n",
        "secuencia_binaria = generar_secuencia(data)\n",
        "\n",
        "#Contar el número de corridas\n",
        "def contar_corridas(secuencia):\n",
        "    corridas = 1  #La primera corrida siempre empieza en 1\n",
        "    for i in range(1, len(secuencia)):  #Comenzar desde el segundo elemento\n",
        "        if secuencia[i] != secuencia[i - 1]:  #Cambio de 0 a 1 o viceversa\n",
        "            corridas += 1\n",
        "    return corridas\n",
        "\n",
        "#Calcular el número de corridas\n",
        "num_corridas = contar_corridas(secuencia_binaria)\n",
        "\n",
        "#Calcular proporciones de 0s y 1s\n",
        "n0 = np.sum(secuencia_binaria == 0)\n",
        "n1 = np.sum(secuencia_binaria == 1)\n",
        "\n",
        "#Calcular el valor esperado y la varianza de las corridas\n",
        "valor_esperado = (2 * (n0 + n1) / 3)\n",
        "varianza = (16 * (n0 + n1) - 29) / 90\n",
        "var = np.sqrt(varianza)\n",
        "\n",
        "#Calcular el estadístico Z\n",
        "Z = (num_corridas - valor_esperado) / var\n",
        "\n",
        "#Valor critico\n",
        "alpha = 0.05  #Nivel de significancia\n",
        "z_critico = norm.ppf(1 - alpha / 2)\n",
        "intervalo_critico = (-z_critico, z_critico)\n",
        "\n",
        "es_aleatorio = intervalo_critico[0] <= Z <= intervalo_critico[1] #Verificación de aleatoriedad\n",
        "\n",
        "print(\"Número de corridas:\", num_corridas)\n",
        "print(\"Valor esperado de corridas:\", valor_esperado)\n",
        "print(\"Desviación estándar:\", var)\n",
        "print(\"Estadístico Z:\", Z)\n",
        "print(\"Intervalo crítico:\", intervalo_critico)\n",
        "print(\"¿La secuencia es aleatoria?:\", es_aleatorio)\n"
      ],
      "metadata": {
        "colab": {
          "base_uri": "https://localhost:8080/"
        },
        "id": "TkCYThkvj1Kg",
        "outputId": "90630ab3-ee32-44ef-e7b5-b4cd11277264"
      },
      "execution_count": 11,
      "outputs": [
        {
          "output_type": "stream",
          "name": "stdout",
          "text": [
            "Número de corridas: 17\n",
            "Valor esperado de corridas: 16.666666666666668\n",
            "Desviación estándar: 2.030325644378808\n",
            "Estadístico Z: 0.16417727582577904\n",
            "Intervalo crítico: (-1.959963984540054, 1.959963984540054)\n",
            "¿La secuencia es aleatoria?: True\n"
          ]
        }
      ]
    }
  ]
}