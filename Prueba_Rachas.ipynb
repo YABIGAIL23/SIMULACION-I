{
  "nbformat": 4,
  "nbformat_minor": 0,
  "metadata": {
    "colab": {
      "provenance": [],
      "authorship_tag": "ABX9TyOhuEJh5lawIt6EmKDOWcjb",
      "include_colab_link": true
    },
    "kernelspec": {
      "name": "python3",
      "display_name": "Python 3"
    },
    "language_info": {
      "name": "python"
    }
  },
  "cells": [
    {
      "cell_type": "markdown",
      "metadata": {
        "id": "view-in-github",
        "colab_type": "text"
      },
      "source": [
        "<a href=\"https://colab.research.google.com/github/YABIGAIL23/SIMULACION-I/blob/main/Prueba_Rachas.ipynb\" target=\"_parent\"><img src=\"https://colab.research.google.com/assets/colab-badge.svg\" alt=\"Open In Colab\"/></a>"
      ]
    },
    {
      "cell_type": "code",
      "source": [
        "import numpy as np\n",
        "from scipy.stats import norm\n",
        "\n",
        "# Datos\n",
        "data = np.array([0.048, 0.926, 0.368, 0.787, 0.298, 0.591, 0.007, 0.437, 0.594, 0.199,\n",
        "                 0.478, 0.551, 0.178, 0.086, 0.157, 0.166, 0.362, 0.411, 0.951, 0.401,\n",
        "                 0.932, 0.533, 0.545, 0.772, 0.631])\n",
        "\n",
        "# Función para generar la secuencia de 0 y 1\n",
        "def generar_secuencia(data):\n",
        "    secuencia = np.zeros(len(data) - 1, dtype=int)  # Se generan n-1 comparaciones\n",
        "    for i in range(1, len(data)):  # Comenzamos en 1 para comparar con el anterior\n",
        "        if data[i] > data[i - 1]:\n",
        "            secuencia[i - 1] = 1  # Asignamos 1 si hay un incremento\n",
        "        else:\n",
        "            secuencia[i - 1] = 0  # Asignamos 0 si hay una disminución\n",
        "    return secuencia\n",
        "\n",
        "# Generar la secuencia binaria\n",
        "secuencia_binaria = generar_secuencia(data)\n",
        "print(\"Secuencia binaria generada:\", secuencia_binaria)\n",
        "\n",
        "# Contar el número de corridas\n",
        "def contar_corridas(secuencia):\n",
        "    corridas = 1  # La primera corrida siempre comienza en 1\n",
        "    for i in range(1, len(secuencia)):  # Recorremos la secuencia\n",
        "        if secuencia[i] != secuencia[i - 1]:  # Si cambia de 0 a 1 o viceversa, es una nueva corrida\n",
        "            corridas += 1\n",
        "    return corridas\n",
        "\n",
        "# Calcular el número de corridas\n",
        "num_corridas = contar_corridas(secuencia_binaria)\n",
        "\n",
        "#Calcular el valor esperado y la varianza de las corridas\n",
        "valor_esperado = ((2 * len(data)-1) / 3)\n",
        "varianza = (16 * len(data) - 29) / 90\n",
        "var = np.sqrt(varianza)\n",
        "\n",
        "# Calcular el estadístico Z\n",
        "Z = (num_corridas - valor_esperado) / var\n",
        "\n",
        "# Valor crítico\n",
        "alpha = 0.05  # Nivel de significancia\n",
        "z_critico = norm.ppf(1 - alpha / 2)\n",
        "intervalo_critico = [-z_critico, z_critico]\n",
        "\n",
        "# Determinar si la secuencia es aleatoria\n",
        "es_aleatorio = intervalo_critico[0] <= Z <= intervalo_critico[1]\n",
        "\n",
        "# Resultados\n",
        "print(\"Número de corridas:\", num_corridas)\n",
        "print(\"Valor esperado de corridas:\", valor_esperado)\n",
        "print(\"Desviación estándar:\", var)\n",
        "print(\"Estadístico Z:\", Z)\n",
        "print(\"Intervalo crítico:\", intervalo_critico)\n",
        "print(\"¿La secuencia es aleatoria?:\", es_aleatorio)\n"
      ],
      "metadata": {
        "colab": {
          "base_uri": "https://localhost:8080/"
        },
        "id": "K9rhYOArqtpN",
        "outputId": "737da47d-778b-4802-d801-d8eec021e827"
      },
      "execution_count": 70,
      "outputs": [
        {
          "output_type": "stream",
          "name": "stdout",
          "text": [
            "Secuencia binaria generada: [1 0 1 0 1 0 1 1 0 1 1 0 0 1 1 1 1 1 0 1 0 1 1 0]\n",
            "Número de corridas: 16\n",
            "Valor esperado de corridas: 16.333333333333332\n",
            "Desviación estándar: 2.030325644378808\n",
            "Estadístico Z: -0.16417727582577904\n",
            "Intervalo crítico: [-1.959963984540054, 1.959963984540054]\n",
            "¿La secuencia es aleatoria?: True\n"
          ]
        }
      ]
    }
  ]
}