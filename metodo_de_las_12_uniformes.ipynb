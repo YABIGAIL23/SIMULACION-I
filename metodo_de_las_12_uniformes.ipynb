{
  "cells": [
    {
      "cell_type": "markdown",
      "metadata": {
        "id": "view-in-github",
        "colab_type": "text"
      },
      "source": [
        "<a href=\"https://colab.research.google.com/github/YABIGAIL23/SIMULACION-I/blob/main/metodo_de_las_12_uniformes.ipynb\" target=\"_parent\"><img src=\"https://colab.research.google.com/assets/colab-badge.svg\" alt=\"Open In Colab\"/></a>"
      ]
    },
    {
      "cell_type": "markdown",
      "source": [
        "### Metodo de las 12 uniformes\n",
        "\n",
        "El método de las 12 uniformes es una técnica clásica para generar números aleatorios con distribución normal (gaussiana) a partir de números aleatorios con distribución uniforme.\n",
        "\n",
        "Normal estándar:\n",
        "\\begin{equation}\n",
        "f(x) = \\frac{1}{\\sqrt{2\\pi}\\sigma} \\, e^{-\\frac{1}{2} \\left( \\frac{x - \\mu}{\\sigma} \\right)^2}, \\quad -\\infty < x < \\infty\n",
        "\\end{equation}"
      ],
      "metadata": {
        "id": "CvVYC--UFID1"
      }
    },
    {
      "cell_type": "code",
      "source": [
        "#Librerias\n",
        "import random as rd\n",
        "import numpy as np\n",
        "import matplotlib.pyplot as plt\n",
        "import math"
      ],
      "metadata": {
        "id": "AQgfQU3TDdJG"
      },
      "execution_count": null,
      "outputs": []
    },
    {
      "cell_type": "code",
      "source": [
        "M = 2  #Media\n",
        "s = 3  #Desviación estándar"
      ],
      "metadata": {
        "id": "B6TKy092De7V"
      },
      "execution_count": null,
      "outputs": []
    },
    {
      "cell_type": "markdown",
      "source": [
        "Aplicamos el metodo\n",
        "con\n",
        "\n",
        "\\begin{equation}\n",
        "x = \\mu + \\sigma (\\overset {12} \\sum R_i - 6) \\,  \\quad R_i \\aproxx  U(0,1)\n",
        "\\end{equation}"
      ],
      "metadata": {
        "id": "QjhATtGVFVa1"
      }
    },
    {
      "cell_type": "code",
      "source": [
        "def doce(n):\n",
        "  lista = []\n",
        "  for i in range(n):\n",
        "    suma = 0\n",
        "    for i in range(12):\n",
        "      R=rd.random()\n",
        "      suma=suma+R\n",
        "    x=M+s*(suma-6)\n",
        "    lista.append(x)\n",
        "  return lista\n"
      ],
      "metadata": {
        "id": "YISpdmL3DhR9"
      },
      "execution_count": null,
      "outputs": []
    },
    {
      "cell_type": "markdown",
      "source": [
        "Llamamos la simulación"
      ],
      "metadata": {
        "id": "eGx6ALRDFqn0"
      }
    },
    {
      "cell_type": "code",
      "source": [
        "m=doce(100000)"
      ],
      "metadata": {
        "id": "DA_s8AK_Ef2d"
      },
      "execution_count": null,
      "outputs": []
    },
    {
      "cell_type": "markdown",
      "source": [
        "Gráfica"
      ],
      "metadata": {
        "id": "43QvpxFoF3YE"
      }
    },
    {
      "cell_type": "code",
      "source": [
        "plt.hist(m, bins = 50)"
      ],
      "metadata": {
        "colab": {
          "base_uri": "https://localhost:8080/",
          "height": 829
        },
        "id": "bnGA4xL4El51",
        "outputId": "c49b6530-aaa6-4e60-ae5d-71dffd66daa0"
      },
      "execution_count": null,
      "outputs": [
        {
          "output_type": "execute_result",
          "data": {
            "text/plain": [
              "(array([2.000e+00, 1.000e+00, 8.000e+00, 1.500e+01, 2.600e+01, 4.400e+01,\n",
              "        8.100e+01, 1.440e+02, 2.360e+02, 3.750e+02, 6.040e+02, 8.400e+02,\n",
              "        1.264e+03, 1.760e+03, 2.286e+03, 2.840e+03, 3.480e+03, 4.257e+03,\n",
              "        5.029e+03, 5.539e+03, 6.379e+03, 6.635e+03, 6.918e+03, 7.036e+03,\n",
              "        6.730e+03, 6.390e+03, 5.921e+03, 5.268e+03, 4.543e+03, 3.885e+03,\n",
              "        3.057e+03, 2.459e+03, 1.833e+03, 1.379e+03, 9.630e+02, 6.790e+02,\n",
              "        4.330e+02, 2.960e+02, 1.570e+02, 9.400e+01, 6.500e+01, 2.700e+01,\n",
              "        1.200e+01, 4.000e+00, 3.000e+00, 1.000e+00, 0.000e+00, 1.000e+00,\n",
              "        0.000e+00, 1.000e+00]),\n",
              " array([-10.21849903,  -9.6904514 ,  -9.16240378,  -8.63435615,\n",
              "         -8.10630852,  -7.57826089,  -7.05021326,  -6.52216563,\n",
              "         -5.99411801,  -5.46607038,  -4.93802275,  -4.40997512,\n",
              "         -3.88192749,  -3.35387987,  -2.82583224,  -2.29778461,\n",
              "         -1.76973698,  -1.24168935,  -0.71364172,  -0.1855941 ,\n",
              "          0.34245353,   0.87050116,   1.39854879,   1.92659642,\n",
              "          2.45464404,   2.98269167,   3.5107393 ,   4.03878693,\n",
              "          4.56683456,   5.09488219,   5.62292981,   6.15097744,\n",
              "          6.67902507,   7.2070727 ,   7.73512033,   8.26316795,\n",
              "          8.79121558,   9.31926321,   9.84731084,  10.37535847,\n",
              "         10.90340609,  11.43145372,  11.95950135,  12.48754898,\n",
              "         13.01559661,  13.54364424,  14.07169186,  14.59973949,\n",
              "         15.12778712,  15.65583475,  16.18388238]),\n",
              " <BarContainer object of 50 artists>)"
            ]
          },
          "metadata": {},
          "execution_count": 44
        },
        {
          "output_type": "display_data",
          "data": {
            "text/plain": [
              "<Figure size 640x480 with 1 Axes>"
            ],
            "image/png": "[encoded data removed]"
          },
          "metadata": {}
        }
      ]
    },
    {
      "cell_type": "markdown",
      "source": [
        "Media y varinza"
      ],
      "metadata": {
        "id": "11NZfumxF611"
      }
    },
    {
      "cell_type": "code",
      "source": [
        "media = np.mean(m)\n",
        "varianza = np.var(m)\n",
        "print(\"La media es:\", media)\n",
        "print(\"La varianza es:\", varianza)"
      ],
      "metadata": {
        "colab": {
          "base_uri": "https://localhost:8080/"
        },
        "id": "PTGiiSSrEtZN",
        "outputId": "ada2c6a4-522e-4e26-ce21-d6bb19f56e88"
      },
      "execution_count": null,
      "outputs": [
        {
          "output_type": "stream",
          "name": "stdout",
          "text": [
            "La media es: 2.014162728096701\n",
            "La varianza es: 8.9441635362938\n"
          ]
        }
      ]
    }
  ],
  "metadata": {
    "colab": {
      "provenance": [],
      "include_colab_link": true
    },
    "kernelspec": {
      "display_name": "Python 3",
      "name": "python3"
    },
    "language_info": {
      "name": "python"
    }
  },
  "nbformat": 4,
  "nbformat_minor": 0
}