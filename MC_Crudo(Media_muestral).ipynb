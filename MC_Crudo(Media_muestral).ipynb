{
  "nbformat": 4,
  "nbformat_minor": 0,
  "metadata": {
    "colab": {
      "provenance": [],
      "authorship_tag": "ABX9TyN3l1kMSIfpuaIElTCBnI6T",
      "include_colab_link": true
    },
    "kernelspec": {
      "name": "python3",
      "display_name": "Python 3"
    },
    "language_info": {
      "name": "python"
    }
  },
  "cells": [
    {
      "cell_type": "markdown",
      "metadata": {
        "id": "view-in-github",
        "colab_type": "text"
      },
      "source": [
        "<a href=\"https://colab.research.google.com/github/YABIGAIL23/SIMULACION-I/blob/main/MC_Crudo(Media_muestral).ipynb\" target=\"_parent\"><img src=\"https://colab.research.google.com/assets/colab-badge.svg\" alt=\"Open In Colab\"/></a>"
      ]
    },
    {
      "cell_type": "markdown",
      "source": [
        "Importamos las librerias:\n",
        "- Numpy: para la suma de mis x random\n",
        "- Scipy: para calcular la integral exacta"
      ],
      "metadata": {
        "id": "lzKD3A42z8rT"
      }
    },
    {
      "cell_type": "code",
      "execution_count": 1,
      "metadata": {
        "id": "RvTHprDFmwPT"
      },
      "outputs": [],
      "source": [
        "import numpy as np\n",
        "from scipy.integrate import quad"
      ]
    },
    {
      "cell_type": "markdown",
      "source": [
        "Definimos la funcion a aproximar $g(x) = \\sqrt{arctan(x)}$"
      ],
      "metadata": {
        "id": "pawAbD320ATR"
      }
    },
    {
      "cell_type": "code",
      "source": [
        "def g(x):\n",
        "    return np.sqrt(np.arctan(x))"
      ],
      "metadata": {
        "id": "rgeEbSJ-0ClR"
      },
      "execution_count": 2,
      "outputs": []
    },
    {
      "cell_type": "markdown",
      "source": [
        "Intervalo $(a,b)$\n",
        "\n",
        "N: Numero de pasos"
      ],
      "metadata": {
        "id": "MQrnmsud0E16"
      }
    },
    {
      "cell_type": "code",
      "source": [
        "a = 0\n",
        "b = 1\n",
        "N = 10000"
      ],
      "metadata": {
        "id": "HqL6pYG-0Gq5"
      },
      "execution_count": 3,
      "outputs": []
    },
    {
      "cell_type": "markdown",
      "source": [
        "Generación de numeros aleatorios, evaluación de los puntos en la función $g(x) = \\sqrt{arctan(x)}$ y renombramiento de ellos."
      ],
      "metadata": {
        "id": "bYWQiyPw0ICh"
      }
    },
    {
      "cell_type": "code",
      "source": [
        "#Generar N puntos aleatorios\n",
        "x_random = np.random.uniform(a, b, N)\n",
        "\n",
        "#Evaluar la función en los puntos generados\n",
        "g_values = g(x_random)"
      ],
      "metadata": {
        "id": "5Xs9_AL50Jwi"
      },
      "execution_count": 4,
      "outputs": []
    },
    {
      "cell_type": "markdown",
      "source": [
        "## Estimación Monte Carlo"
      ],
      "metadata": {
        "id": "OCqgyXzk0La6"
      }
    },
    {
      "cell_type": "code",
      "source": [
        "#Calcular la estimación de la integral usando Monte Carlo\n",
        "integral_estimation = (1/N) * np.sum(g_values)"
      ],
      "metadata": {
        "id": "GVacrF2u0NVL"
      },
      "execution_count": 5,
      "outputs": []
    },
    {
      "cell_type": "markdown",
      "source": [
        "Calculo de la integral exacta $\\int_a^b \\sqrt{arctan(x)} dx$ y el error"
      ],
      "metadata": {
        "id": "-RtNiFtA0QVR"
      }
    },
    {
      "cell_type": "code",
      "source": [
        "# Calcular la integral exacta con scipy\n",
        "integral_exacta, _ = quad(g, a, b)\n",
        "\n",
        "# Calcular el error absoluto\n",
        "error = abs(integral_estimation - integral_exacta)"
      ],
      "metadata": {
        "id": "-1N5IY3S0SK5"
      },
      "execution_count": 6,
      "outputs": []
    },
    {
      "cell_type": "markdown",
      "source": [
        "Impresión de los resultados."
      ],
      "metadata": {
        "id": "VD35X1hA0UFa"
      }
    },
    {
      "cell_type": "code",
      "source": [
        "# Mostrar los resultados\n",
        "print(f\"Estimación de la integral con Monte Carlo: {integral_estimation:.10f}\")\n",
        "print(f\"Integral exacta: {integral_exacta:.10f}\")\n",
        "print(f\"Error absoluto: {error:.10f}\")"
      ],
      "metadata": {
        "colab": {
          "base_uri": "https://localhost:8080/"
        },
        "id": "0FwBteLw0VuR",
        "outputId": "448266ba-cc91-4abb-e73d-957b5486cd58"
      },
      "execution_count": 7,
      "outputs": [
        {
          "output_type": "stream",
          "name": "stdout",
          "text": [
            "Estimación de la integral con Monte Carlo: 0.6321540746\n",
            "Integral exacta: 0.6298233442\n",
            "Error absoluto: 0.0023307304\n"
          ]
        }
      ]
    }
  ]
}