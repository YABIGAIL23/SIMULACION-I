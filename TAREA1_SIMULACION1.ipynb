{
  "nbformat": 4,
  "nbformat_minor": 0,
  "metadata": {
    "colab": {
      "provenance": [],
      "authorship_tag": "ABX9TyPRIjw2D4nbvGaJKV+g7ko0",
      "include_colab_link": true
    },
    "kernelspec": {
      "name": "python3",
      "display_name": "Python 3"
    },
    "language_info": {
      "name": "python"
    }
  },
  "cells": [
    {
      "cell_type": "markdown",
      "metadata": {
        "id": "view-in-github",
        "colab_type": "text"
      },
      "source": [
        "<a href=\"https://colab.research.google.com/github/YABIGAIL23/SIMULACION-I/blob/main/TAREA1_SIMULACION1.ipynb\" target=\"_parent\"><img src=\"https://colab.research.google.com/assets/colab-badge.svg\" alt=\"Open In Colab\"/></a>"
      ]
    },
    {
      "cell_type": "code",
      "source": [
        "# Generador Congruencial Lineal con detección de ciclos\n",
        "from tabulate import tabulate\n",
        "a = 21\n",
        "c = 15\n",
        "m = 31\n",
        "x = 2\n",
        "\n",
        "def generar_numeros(x, a, c, m, n):\n",
        "    num = []\n",
        "    tabla = []\n",
        "\n",
        "    for i in range(n):\n",
        "        # Verificar si ya se generó ese valor\n",
        "        if x in num:\n",
        "            print(f\"\\n Ciclo detectado en la iteración {i + 1} con valor x = {x}. Deteniendo generación.\")\n",
        "            break\n",
        "\n",
        "        num.append(x)\n",
        "        tabla.append([i + 1, x, x / m])\n",
        "        x = (a * x + c) % m\n",
        "\n",
        "    print(tabulate(tabla, headers=[\"Iteración\", \"x\", \"x/m\"], tablefmt=\"grid\"))\n",
        "    return num\n",
        "\n",
        "cantidad = int(input(\"¿Cuántos números deseas generar?: \"))\n",
        "numeros_generados = generar_numeros(x, a, c, m, cantidad)\n",
        "\n",
        "lista = [num / m for num in numeros_generados]"
      ],
      "metadata": {
        "colab": {
          "base_uri": "https://localhost:8080/"
        },
        "id": "CRFaW1ILnTlU",
        "outputId": "eba51f9f-04a1-42eb-947d-76d96ec17015"
      },
      "execution_count": 8,
      "outputs": [
        {
          "output_type": "stream",
          "name": "stdout",
          "text": [
            "¿Cuántos números deseas generar?: 50\n",
            "\n",
            " Ciclo detectado en la iteración 31 con valor x = 2. Deteniendo generación.\n",
            "+-------------+-----+-----------+\n",
            "|   Iteración |   x |       x/m |\n",
            "+=============+=====+===========+\n",
            "|           1 |   2 | 0.0645161 |\n",
            "+-------------+-----+-----------+\n",
            "|           2 |  26 | 0.83871   |\n",
            "+-------------+-----+-----------+\n",
            "|           3 |   3 | 0.0967742 |\n",
            "+-------------+-----+-----------+\n",
            "|           4 |  16 | 0.516129  |\n",
            "+-------------+-----+-----------+\n",
            "|           5 |  10 | 0.322581  |\n",
            "+-------------+-----+-----------+\n",
            "|           6 |   8 | 0.258065  |\n",
            "+-------------+-----+-----------+\n",
            "|           7 |  28 | 0.903226  |\n",
            "+-------------+-----+-----------+\n",
            "|           8 |  14 | 0.451613  |\n",
            "+-------------+-----+-----------+\n",
            "|           9 |  30 | 0.967742  |\n",
            "+-------------+-----+-----------+\n",
            "|          10 |  25 | 0.806452  |\n",
            "+-------------+-----+-----------+\n",
            "|          11 |  13 | 0.419355  |\n",
            "+-------------+-----+-----------+\n",
            "|          12 |   9 | 0.290323  |\n",
            "+-------------+-----+-----------+\n",
            "|          13 |  18 | 0.580645  |\n",
            "+-------------+-----+-----------+\n",
            "|          14 |  21 | 0.677419  |\n",
            "+-------------+-----+-----------+\n",
            "|          15 |  22 | 0.709677  |\n",
            "+-------------+-----+-----------+\n",
            "|          16 |  12 | 0.387097  |\n",
            "+-------------+-----+-----------+\n",
            "|          17 |  19 | 0.612903  |\n",
            "+-------------+-----+-----------+\n",
            "|          18 |  11 | 0.354839  |\n",
            "+-------------+-----+-----------+\n",
            "|          19 |  29 | 0.935484  |\n",
            "+-------------+-----+-----------+\n",
            "|          20 |   4 | 0.129032  |\n",
            "+-------------+-----+-----------+\n",
            "|          21 |   6 | 0.193548  |\n",
            "+-------------+-----+-----------+\n",
            "|          22 |  17 | 0.548387  |\n",
            "+-------------+-----+-----------+\n",
            "|          23 |   0 | 0         |\n",
            "+-------------+-----+-----------+\n",
            "|          24 |  15 | 0.483871  |\n",
            "+-------------+-----+-----------+\n",
            "|          25 |  20 | 0.645161  |\n",
            "+-------------+-----+-----------+\n",
            "|          26 |   1 | 0.0322581 |\n",
            "+-------------+-----+-----------+\n",
            "|          27 |   5 | 0.16129   |\n",
            "+-------------+-----+-----------+\n",
            "|          28 |  27 | 0.870968  |\n",
            "+-------------+-----+-----------+\n",
            "|          29 |  24 | 0.774194  |\n",
            "+-------------+-----+-----------+\n",
            "|          30 |  23 | 0.741935  |\n",
            "+-------------+-----+-----------+\n"
          ]
        }
      ]
    }
  ]
}