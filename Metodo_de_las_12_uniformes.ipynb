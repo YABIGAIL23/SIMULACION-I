{
  "cells": [
    {
      "cell_type": "markdown",
      "metadata": {
        "id": "view-in-github",
        "colab_type": "text"
      },
      "source": [
        "<a href=\"https://colab.research.google.com/github/YABIGAIL23/SIMULACION-I/blob/main/Metodo_de_las_12_uniformes.ipynb\" target=\"_parent\"><img src=\"https://colab.research.google.com/assets/colab-badge.svg\" alt=\"Open In Colab\"/></a>"
      ]
    },
    {
      "cell_type": "markdown",
      "source": [
        "### Metodo de las 12 uniformes\n",
        "\n",
        "El método de las 12 uniformes es una técnica clásica para generar números aleatorios con distribución normal (gaussiana) a partir de números aleatorios con distribución uniforme.\n",
        "\n",
        "Normal estándar:\n",
        "\\begin{equation}\n",
        "f(x) = \\frac{1}{\\sqrt{2\\pi}\\sigma} \\, e^{-\\frac{1}{2} \\left( \\frac{x - \\mu}{\\sigma} \\right)^2}, \\quad -\\infty < x < \\infty\n",
        "\\end{equation}"
      ],
      "metadata": {
        "id": "CvVYC--UFID1"
      }
    },
    {
      "cell_type": "code",
      "source": [
        "#Librerias\n",
        "import random as rd\n",
        "import numpy as np\n",
        "import matplotlib.pyplot as plt\n",
        "import math"
      ],
      "metadata": {
        "id": "AQgfQU3TDdJG"
      },
      "execution_count": 1,
      "outputs": []
    },
    {
      "cell_type": "code",
      "source": [
        "M = 2  #Media\n",
        "s = 3  #Desviación estándar"
      ],
      "metadata": {
        "id": "B6TKy092De7V"
      },
      "execution_count": 2,
      "outputs": []
    },
    {
      "cell_type": "markdown",
      "source": [
        "Aplicamos el metodo\n",
        "con\n",
        "\n",
        "\\begin{equation}\n",
        "x = \\mu + \\sigma \\left(\\sum_{i=1}^{12} R_i - 6\\right) \\,  \\quad R_i \\sim U(0,1)\n",
        "\\end{equation}"
      ],
      "metadata": {
        "id": "QjhATtGVFVa1"
      }
    },
    {
      "cell_type": "code",
      "source": [
        "def doce(n):\n",
        "  lista = []\n",
        "  for i in range(n):\n",
        "    suma = 0\n",
        "    for i in range(12):\n",
        "      R=rd.random()\n",
        "      suma=suma+R\n",
        "    x=M+s*(suma-6)\n",
        "    lista.append(x)\n",
        "  return lista\n"
      ],
      "metadata": {
        "id": "YISpdmL3DhR9"
      },
      "execution_count": 3,
      "outputs": []
    },
    {
      "cell_type": "markdown",
      "source": [
        "Llamamos la simulación"
      ],
      "metadata": {
        "id": "eGx6ALRDFqn0"
      }
    },
    {
      "cell_type": "code",
      "source": [
        "m=doce(100000)"
      ],
      "metadata": {
        "id": "DA_s8AK_Ef2d"
      },
      "execution_count": 4,
      "outputs": []
    },
    {
      "cell_type": "markdown",
      "source": [
        "Gráfica"
      ],
      "metadata": {
        "id": "43QvpxFoF3YE"
      }
    },
    {
      "cell_type": "code",
      "source": [
        "plt.hist(m, bins = 50)"
      ],
      "metadata": {
        "colab": {
          "base_uri": "https://localhost:8080/",
          "height": 794
        },
        "id": "bnGA4xL4El51",
        "outputId": "94bb488c-b822-499d-eed2-39e4c05244ef"
      },
      "execution_count": 5,
      "outputs": [
        {
          "output_type": "execute_result",
          "data": {
            "text/plain": [
              "(array([4.000e+00, 4.000e+00, 9.000e+00, 2.400e+01, 3.000e+01, 8.100e+01,\n",
              "        1.210e+02, 1.890e+02, 2.780e+02, 4.780e+02, 6.420e+02, 8.930e+02,\n",
              "        1.289e+03, 1.586e+03, 2.119e+03, 2.643e+03, 3.229e+03, 3.954e+03,\n",
              "        4.558e+03, 5.069e+03, 5.675e+03, 6.181e+03, 6.316e+03, 6.405e+03,\n",
              "        6.330e+03, 6.260e+03, 5.779e+03, 5.393e+03, 4.770e+03, 4.333e+03,\n",
              "        3.571e+03, 2.967e+03, 2.430e+03, 1.851e+03, 1.433e+03, 9.530e+02,\n",
              "        7.420e+02, 4.980e+02, 3.440e+02, 2.310e+02, 1.580e+02, 8.100e+01,\n",
              "        5.300e+01, 1.500e+01, 1.700e+01, 9.000e+00, 4.000e+00, 0.000e+00,\n",
              "        0.000e+00, 1.000e+00]),\n",
              " array([-9.65385579, -9.16273066, -8.67160552, -8.18048039, -7.68935526,\n",
              "        -7.19823012, -6.70710499, -6.21597986, -5.72485473, -5.23372959,\n",
              "        -4.74260446, -4.25147933, -3.7603542 , -3.26922906, -2.77810393,\n",
              "        -2.2869788 , -1.79585367, -1.30472853, -0.8136034 , -0.32247827,\n",
              "         0.16864686,  0.659772  ,  1.15089713,  1.64202226,  2.1331474 ,\n",
              "         2.62427253,  3.11539766,  3.60652279,  4.09764793,  4.58877306,\n",
              "         5.07989819,  5.57102332,  6.06214846,  6.55327359,  7.04439872,\n",
              "         7.53552385,  8.02664899,  8.51777412,  9.00889925,  9.50002438,\n",
              "         9.99114952, 10.48227465, 10.97339978, 11.46452491, 11.95565005,\n",
              "        12.44677518, 12.93790031, 13.42902545, 13.92015058, 14.41127571,\n",
              "        14.90240084]),\n",
              " <BarContainer object of 50 artists>)"
            ]
          },
          "metadata": {},
          "execution_count": 5
        },
        {
          "output_type": "display_data",
          "data": {
            "text/plain": [
              "<Figure size 640x480 with 1 Axes>"
            ],
            "image/png": "[encoded data removed]"
          },
          "metadata": {}
        }
      ]
    },
    {
      "cell_type": "markdown",
      "source": [
        "Media y varinza"
      ],
      "metadata": {
        "id": "11NZfumxF611"
      }
    },
    {
      "cell_type": "code",
      "source": [
        "media = np.mean(m)\n",
        "varianza = np.var(m)\n",
        "print(\"La media es:\", media)\n",
        "print(\"La varianza es:\", varianza)"
      ],
      "metadata": {
        "colab": {
          "base_uri": "https://localhost:8080/"
        },
        "id": "PTGiiSSrEtZN",
        "outputId": "212e352e-a22e-4d10-d032-34599b2f1f42"
      },
      "execution_count": 6,
      "outputs": [
        {
          "output_type": "stream",
          "name": "stdout",
          "text": [
            "La media es: 1.997434925317069\n",
            "La varianza es: 8.98645362941604\n"
          ]
        }
      ]
    }
  ],
  "metadata": {
    "colab": {
      "provenance": [],
      "include_colab_link": true
    },
    "kernelspec": {
      "display_name": "Python 3",
      "name": "python3"
    },
    "language_info": {
      "name": "python"
    }
  },
  "nbformat": 4,
  "nbformat_minor": 0
}